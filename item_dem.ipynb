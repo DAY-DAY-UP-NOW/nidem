{
 "cells": [
  {
   "cell_type": "code",
   "execution_count": 3,
   "metadata": {},
   "outputs": [],
   "source": [
    "polygon_ID = 252"
   ]
  },
  {
   "cell_type": "markdown",
   "metadata": {},
   "source": [
    "# Import data, identify contours and convert to points"
   ]
  },
  {
   "cell_type": "code",
   "execution_count": 4,
   "metadata": {},
   "outputs": [
    {
     "name": "stdout",
     "output_type": "stream",
     "text": [
      "ITEM classes: [-9999, -2296, -1709, -1142, -449, 135, 824, 1387, 2036, 2669]\n"
     ]
    },
    {
     "data": {
      "image/png": "[encoded data removed]",
      "text/plain": [
       "<matplotlib.figure.Figure at 0x7f091bb4feb8>"
      ]
     },
     "metadata": {},
     "output_type": "display_data"
    }
   ],
   "source": [
    "# Import libraries\n",
    "import datacube\n",
    "import glob\n",
    "import scipy.ndimage\n",
    "import fiona\n",
    "import numpy as np\n",
    "import scipy.ndimage.filters as filters\n",
    "import scipy.ndimage.morphology as morphology\n",
    "import matplotlib.cm as cm\n",
    "from shapely.geometry import Point, LineString, MultiLineString, mapping\n",
    "from fiona.crs import from_epsg\n",
    "from osgeo import gdal\n",
    "from scipy.interpolate import griddata\n",
    "from skimage import measure\n",
    "from matplotlib import pyplot as plt\n",
    "\n",
    "\"\"\"\n",
    "TODO: Investigate scipy.interpolate.RectBivariateSpline, scipy.interpolate.interp2d,\n",
    "spipy.interpolate.RegularGridInterpolator, sklearn.gaussian_process.GaussianProcess\n",
    "\"\"\"\n",
    "\n",
    "\n",
    "def write_geotiff(fname, data, geo_transform, projection, nodata_val):\n",
    "    \n",
    "    \"\"\"\n",
    "    Create a single band GeoTIFF file with data from array.\n",
    "    \n",
    "    :attr fname: output file path\n",
    "    :attr data: input array\n",
    "    :attr geo_transform: geotransform for output raster\n",
    "    :attr projection: projection for output raster\n",
    "    :attr nodata_val: value to convert to nodata in output raster\n",
    "    \"\"\"\n",
    "    \n",
    "    # Set up driver\n",
    "    driver = gdal.GetDriverByName('GTiff')\n",
    "    \n",
    "    # Create raster of given size and projection\n",
    "    rows, cols = data.shape\n",
    "    dataset = driver.Create(fname, cols, rows, 1, gdal.GDT_Float32)\n",
    "    dataset.SetGeoTransform(geo_transform)\n",
    "    dataset.SetProjection(projection)\n",
    "    \n",
    "    # Write data to array and set nodata values\n",
    "    band = dataset.GetRasterBand(1)\n",
    "    band.WriteArray(data)\n",
    "    band.SetNoDataValue(nodata_val)\n",
    "    \n",
    "    # Close file\n",
    "    dataset = None     \n",
    "   \n",
    "\n",
    "\n",
    "# Zoom-in for plots (has no effect on analysis but allows you to plot a zoomed-in subset)\n",
    "# plotting_subset = np.index_exp[:, :]\n",
    "plotting_subset = np.index_exp[1100:2100, 1300:2200]\n",
    "\n",
    "# Import raster and extract shape, projection info and geotransform data\n",
    "filename = glob.glob(\"/g/data2/v10/ITEM/offset_products/ITEM_OFFSET_{}_*.tif\".format(polygon_ID))[0]\n",
    "src_ds = gdal.Open(filename)\n",
    "srcarray = src_ds.GetRasterBand(1).ReadAsArray() \n",
    "yrows, xcols = srcarray.shape\n",
    "prj = src_ds.GetProjection()\n",
    "geotrans = src_ds.GetGeoTransform()\n",
    "upleft_x, x_size, x_rotation, upleft_y, y_rotation, y_size = geotrans\n",
    "\n",
    "# Copy original data so array can be modified \n",
    "item_array = np.copy(srcarray)\n",
    "\n",
    "# Set nodata to NaN, and force 0 values to a low negative  (-9999) to allow correct \n",
    "# contour extraction (i.e. make \"0\" data sit beneath the lowest ITEM tidal stage)\n",
    "item_array[item_array == -6666] = np.nan\n",
    "item_array[item_array == 0] = -9999 \n",
    "\n",
    "# Import elevation values from file\n",
    "elevations = np.loadtxt(\"/g/data2/v10/ITEM/offset_products/elevation.txt\", delimiter = \",\", dtype = \"str\")\n",
    "elev_dict = {int(key):[int(val) for val in value.split(\" \")] for (key, value) in elevations}\n",
    "item_classes = [-9999] + elev_dict[polygon_ID]\n",
    "print(\"ITEM classes: {}\".format(item_classes))\n",
    "\n",
    "# Plot original data\n",
    "plt.figure(figsize = (8, 8))\n",
    "plt.imshow(item_array[plotting_subset])  \n",
    "plt.show()\n"
   ]
  },
  {
   "cell_type": "markdown",
   "metadata": {},
   "source": [
    "# Extract contours"
   ]
  },
  {
   "cell_type": "code",
   "execution_count": 5,
   "metadata": {},
   "outputs": [],
   "source": [
    "# Set up output list and items to iterate over; subtract 1m from highest class to allow\n",
    "# highest contour to calculate (otherwise, this height is read as being in NaN area)\n",
    "contour_classes = item_classes[0:9] + [item_classes[9] - 1.0]\n",
    "\n",
    "# Output dict\n",
    "contour_dict = {}\n",
    "\n",
    "for n, contour_class in enumerate(contour_classes):\n",
    "    \n",
    "    # Extract contours from array\n",
    "    contours = measure.find_contours(item_array, contour_class)  \n",
    "\n",
    "    # Iterate through each contour feature, remove NAs and fix coordinates\n",
    "    contour_list = list()\n",
    "    for contour in contours:\n",
    "\n",
    "        # Remove contour points with NAs\n",
    "        contour = contour[~np.isnan(contour).any(axis=1)] \n",
    "\n",
    "        # Convert cells to array of points; use geotransform to convert indices to coordinates in metres\n",
    "        y_inds, x_inds = contour[:,0], contour[:,1]\n",
    "        contour = [(y_ind * float(y_size) + upleft_y + (float(y_size) / 2),\n",
    "                    x_ind * float(x_size) + upleft_x + (float(x_size) / 2)) for (y_ind, x_ind) in contour]    \n",
    "        contour_list.append(contour)\n",
    "        \n",
    "    # Add elevation values and contours with at least one point to dict\n",
    "    elevation_value = item_classes[np.min((9, n + 1))]\n",
    "    contour_dict[elevation_value] = [x for x in contour_list if len(x) > 0]\n",
    "\n",
    "    \n",
    "# Export points to shapefile\n",
    "schema = {'geometry':  'MultiLineString', \n",
    "            'properties': { 'elevation': 'int' } }      \n",
    "\n",
    "with fiona.open(\"output_data/ITEM_DEM_{}_lines.shp\".format(polygon_ID), \"w\", \n",
    "                crs = from_epsg(3577),\n",
    "                driver = \"ESRI Shapefile\", \n",
    "                schema = schema) as output:\n",
    "    \n",
    "    for elevation_value, contour_list in contour_dict.items():\n",
    "        \n",
    "        # For line shapefile export, keep only arrays with at least two points (to make lines)\n",
    "        contour_list = [x for x in contour_list if len(x) > 0]\n",
    "        \n",
    "        # For each array of contour points, flip x and y then create line string\n",
    "        contour_linestrings = [LineString([(x, y) for (y, x) in contour_array]) for contour_array in contour_list]\n",
    "        contour_multilinestring = MultiLineString(contour_linestrings)\n",
    "\n",
    "        # Write output shapefile to file with elevation field        \n",
    "        output.write({'properties': { 'elevation': elevation_value },\n",
    "                      'geometry': mapping(contour_multilinestring) })\n",
    "        \n",
    "        \n",
    "# Convert to arrays for interpolation\n",
    "# points = np.array(centroids)\n",
    "# values = np.array(alldata[:,2])"
   ]
  },
  {
   "cell_type": "code",
   "execution_count": null,
   "metadata": {},
   "outputs": [],
   "source": [
    "from shapely.geometry import Point, MultiLineString, mapping\n",
    "contours[0]\n"
   ]
  },
  {
   "cell_type": "markdown",
   "metadata": {},
   "source": [
    "# Interpolate points\n",
    "Exports a DEM by interpolating previously extracted contours. This uses the `linear` method from `scipy.interpolate.griddata`, which computes a TIN/Delaunay triangulation of the input data using [Qhull](www.qhull.org) before performing linear barycentric interpolation on each triangle."
   ]
  },
  {
   "cell_type": "code",
   "execution_count": null,
   "metadata": {},
   "outputs": [],
   "source": [
    "# Extract bounds of ITEM layer\n",
    "minx = upleft_x\n",
    "maxx = upleft_x + (x_size * xcols)\n",
    "miny = upleft_y + (y_size * yrows)\n",
    "maxy = upleft_y\n",
    "\n",
    "# Create interpolation grid (from, to, by in metres)\n",
    "grid_y, grid_x = np.mgrid[maxy:miny:1j * yrows,\n",
    "                          minx:maxx:1j * xcols]\n",
    "\n",
    "# Interpolate between points onto grid. This uses the 'linear' method from \n",
    "# scipy.interpolate.griddata, which computes a TIN/Delaunay triangulation of the input \n",
    "# data with Qhull and performs linear barycentric interpolation on each triangle\n",
    "interpolated_array = griddata(points, values, (grid_y, grid_x), method = \"linear\")\n",
    "\n",
    "# Mask out NaNs, zero values and max tidal stage from original ITEM offset layer\n",
    "gooddata_mask = ((srcarray != -6666) & (srcarray != 0) & (srcarray != item_classes[9]))\n",
    "interpolated_array[~gooddata_mask] = np.nan\n",
    "\n",
    "# # Plot\n",
    "# plt.figure(figsize = (8, 8))\n",
    "# plt.imshow(interpolated_array[plotting_subset])\n",
    "# plt.show()\n",
    "\n",
    "# Export to tif\n",
    "write_geotiff(fname = \"output_data/ITEM_DEM_{}.tif\".format(polygon_ID), \n",
    "              data = interpolated_array, \n",
    "              geo_transform = geotrans, \n",
    "              projection = prj, \n",
    "              nodata_val = np.nan)\n"
   ]
  }
 ],
 "metadata": {
  "kernelspec": {
   "display_name": "Python 3",
   "language": "python",
   "name": "python3"
  },
  "language_info": {
   "codemirror_mode": {
    "name": "ipython",
    "version": 3
   },
   "file_extension": ".py",
   "mimetype": "text/x-python",
   "name": "python",
   "nbconvert_exporter": "python",
   "pygments_lexer": "ipython3",
   "version": "3.6.3"
  },
  "toc": {
   "nav_menu": {},
   "number_sections": true,
   "sideBar": true,
   "skip_h1_title": false,
   "toc_cell": false,
   "toc_position": {},
   "toc_section_display": "block",
   "toc_window_display": false
  }
 },
 "nbformat": 4,
 "nbformat_minor": 2
}
