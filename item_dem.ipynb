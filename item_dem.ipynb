{
 "cells": [
  {
   "cell_type": "markdown",
   "metadata": {},
   "source": [
    "# Import data, identify contours and convert to points"
   ]
  },
  {
   "cell_type": "code",
   "execution_count": 51,
   "metadata": {
    "scrolled": false
   },
   "outputs": [
    {
     "name": "stdout",
     "output_type": "stream",
     "text": [
      "ITEM classes: [-9999.0, -1248.0, -1018.0, -715.0, -411.0, -122.0, 184.0, 527.0, 829.0, 1161.0]\n"
     ]
    },
    {
     "data": {
      "image/png": "[encoded data removed]",
      "text/plain": [
       "<matplotlib.figure.Figure at 0x7feb52e185c0>"
      ]
     },
     "metadata": {},
     "output_type": "display_data"
    }
   ],
   "source": [
    "import numpy as np\n",
    "import datacube\n",
    "import rasterio\n",
    "import rasterio.features\n",
    "import glob\n",
    "from osgeo import gdal\n",
    "from shapely.geometry import Point\n",
    "from shapely.geometry import shape\n",
    "import scipy.ndimage\n",
    "from scipy.interpolate import griddata\n",
    "import scipy.ndimage.filters as filters\n",
    "import scipy.ndimage.morphology as morphology\n",
    "from matplotlib import pyplot as plt\n",
    "\n",
    "\"\"\"\n",
    "TODO: Investigate scipy.interpolate.RectBivariateSpline, scipy.interpolate.interp2d,\n",
    "spipy.interpolate.RegularGridInterpolator\n",
    "\"\"\"\n",
    "\n",
    "\n",
    "def write_geotiff(fname, data, geo_transform, projection, nodata_val):\n",
    "    \n",
    "    \"\"\"\n",
    "    Create a single band GeoTIFF file with data from array.\n",
    "    \n",
    "    :attr fname: output file path\n",
    "    :attr data: input array\n",
    "    :attr geo_transform: geotransform for output raster\n",
    "    :attr projection: projection for output raster\n",
    "    :attr nodata_val: value to convert to nodata in output raster\n",
    "    \"\"\"\n",
    "    \n",
    "    # Set up driver\n",
    "    driver = gdal.GetDriverByName('GTiff')\n",
    "    \n",
    "    # Create raster of given size and projection\n",
    "    rows, cols = data.shape\n",
    "    dataset = driver.Create(fname, cols, rows, 1, gdal.GDT_Float32)\n",
    "    dataset.SetGeoTransform(geo_transform)\n",
    "    dataset.SetProjection(projection)\n",
    "    \n",
    "    # Write data to array and set nodata values\n",
    "    band = dataset.GetRasterBand(1)\n",
    "    band.WriteArray(data)\n",
    "    band.SetNoDataValue(nodata_val)\n",
    "    \n",
    "    # Close file\n",
    "    dataset = None  \n",
    "\n",
    "\n",
    "# Select polygon\n",
    "polygon_ID = 180\n",
    "\n",
    "# # Zoom-in for plots (has no effect on analysis but allows you to plot a zoomed-in subset)\n",
    "# plotting_subset = np.index_exp[:, :]\n",
    "plotting_subset = np.index_exp[2550:2900, 1500:2000]\n",
    "# plotting_subset = np.index_exp[2350:2450, 2130:2230]\n",
    "    \n",
    "# Import raster\n",
    "filename = glob.glob(\"/g/data2/v10/ITEM/offset_products/ITEM_OFFSET_{}*.tif\".format(polygon_ID))[0]\n",
    "src_ds = gdal.Open(filename)\n",
    "srcband = src_ds.GetRasterBand(1)\n",
    "srcarray = srcband.ReadAsArray() \n",
    "yrows, xcols = srcarray.shape\n",
    "prj = src_ds.GetProjection()\n",
    "geotrans = src_ds.GetGeoTransform()\n",
    "(upleft_x, x_size, x_rotation, upleft_y, y_rotation, y_size) = geotrans\n",
    "\n",
    "# Copy original layer so array can be modified \n",
    "item_array = np.copy(srcarray)\n",
    "\n",
    "# Set nodata to NaN, and force 0 values to a low negative  (-9999) to allow correct \n",
    "# contour extraction (i.e. make \"0\" data sit beneath the lowest ITEM tidal stage)\n",
    "item_array[item_array == -6666] = np.nan\n",
    "item_array[item_array == 0] = -9999 \n",
    "item_classes = sorted(np.unique(item_array[~np.isnan(item_array)]))\n",
    "print(\"ITEM classes: {}\".format(item_classes))\n",
    "\n",
    "# Plot original data\n",
    "plt.figure(figsize = (8, 8))\n",
    "plt.imshow(item_array[plotting_subset])  \n",
    "plt.show()\n",
    "\n",
    "# Erode background of area with data to fix artificial contours at plot edge\n",
    "background = np.isfinite(item_array)\n",
    "background_mask = scipy.ndimage.binary_erosion(background)\n",
    "\n",
    "# Compute local minima and subtract from source array to identify contours\n",
    "neighborhood = morphology.generate_binary_structure(len(item_array.shape), 2)\n",
    "local_mins = filters.minimum_filter(item_array, footprint = neighborhood)\n",
    "contours = (item_array - local_mins) != 0\n",
    "contours[~background_mask] = 0\n",
    "\n",
    "# # Return only input ITEM offset data for non-background and local minima areas\n",
    "# item_array[~contours] = np.nan\n",
    "# plt.figure(figsize = (8, 8))\n",
    "# plt.imshow(item_array[plotting_subset])\n",
    "\n",
    "# # # Export to file\n",
    "# # write_geotiff(fname = \"output_data/contours_{}.tif\".format(polygon_ID), \n",
    "# #               data = item_array, \n",
    "# #               geo_transform = geotrans, \n",
    "# #               projection = prj, \n",
    "# #               nodata_val = 0)\n",
    "\n",
    "# # Convert cells to array of points; use geotransform to convert indices to coordinates\n",
    "# y_inds, x_inds = np.nonzero(contours)\n",
    "# centroids = [(y_ind * y_size + upleft_y + (y_size / 2),\n",
    "#               x_ind * x_size + upleft_x + (x_size / 2)) for (y_ind, x_ind) in zip(y_inds, x_inds)]\n",
    "\n",
    "# points = np.array(centroids)\n",
    "# values = item_array[contours]\n"
   ]
  },
  {
   "cell_type": "code",
   "execution_count": 52,
   "metadata": {},
   "outputs": [
    {
     "name": "stderr",
     "output_type": "stream",
     "text": [
      "/g/data/v10/public/modules/agdc-py3-env/20171214/envs/agdc/lib/python3.6/site-packages/ipykernel_launcher.py:5: RuntimeWarning: invalid value encountered in less\n",
      "  \"\"\"\n"
     ]
    },
    {
     "name": "stdout",
     "output_type": "stream",
     "text": [
      "-9999\n",
      "-1248.0\n",
      "-1018.0\n",
      "-715.0\n",
      "-411.0\n",
      "-122.0\n",
      "184.0\n",
      "527.0\n",
      "829.0\n",
      "1160.0\n"
     ]
    }
   ],
   "source": [
    "from skimage import measure\n",
    "import matplotlib.cm as cm\n",
    "\n",
    "# Optimise by subsetting to area with valid data\n",
    "y_inds, x_inds = np.nonzero(scipy.ndimage.binary_dilation(item_array < item_classes[9]))\n",
    "xmin_inds = np.amin(x_inds)\n",
    "xmax_inds = np.amax(x_inds)\n",
    "ymin_inds = np.amin(y_inds)\n",
    "ymax_inds = np.amax(y_inds)\n",
    "plotting_subset = np.index_exp[ymin_inds:ymax_inds, xmin_inds:xmax_inds]\n",
    "\n",
    "# # Display the image and plot all contours found\n",
    "# fig, ax = plt.subplots(figsize = (20, 20))\n",
    "# ax.imshow(item_array[plotting_subset], interpolation='nearest', cmap=plt.cm.gray)\n",
    "# cols = cm.rainbow(np.linspace(0, 1, 11))\n",
    "\n",
    "contour_dict = list()\n",
    "\n",
    "contour_list = [-9999] + item_classes[1:9] + [item_classes[9] - 1.0]\n",
    "contour_list2 = [-9999] + item_classes[1:9] + [item_classes[9]] + [item_classes[9]]\n",
    "for n, item_class in enumerate(contour_list):\n",
    "    \n",
    "    print(item_class)    \n",
    "    contours = measure.find_contours(item_array[plotting_subset], item_class)\n",
    "    contours_concat = np.concatenate((contours))\n",
    "    contours_val = np.full((contours_concat.shape[0], 1), fill_value = contour_list2[n+1])        \n",
    "    contour_dict.append(np.hstack((contours_concat, contours_val)))    \n",
    "       \n",
    "#     for contour in contours:\n",
    "#         ax.plot(contour[:, 1], contour[:, 0], linewidth = 0.3, color = cols[n])\n",
    "    \n",
    "# ax.axis('image')\n",
    "# ax.set_xticks([])\n",
    "# ax.set_yticks([])\n",
    "# plt.savefig(\"test.png\", dpi = 600)\n",
    "# plt.show()\n",
    "\n",
    "alldata = np.concatenate(contour_dict)\n",
    "alldata = alldata[~np.isnan(alldata).any(axis=1)]\n",
    "alldata \n",
    "\n",
    "centroids = tuple(map(tuple, alldata[:,0:2]))\n",
    "centroids\n",
    "\n",
    "# Convert cells to array of points; use geotransform to convert indices to coordinates\n",
    "y_inds, x_inds = alldata[:,0] + ymin_inds, alldata[:,1] + xmin_inds\n",
    "centroids = [(y_ind * y_size + upleft_y + (y_size / 2),\n",
    "              x_ind * x_size + upleft_x + (x_size / 2)) for (y_ind, x_ind) in zip(y_inds, x_inds)]\n",
    "# print(centroids)\n",
    "\n",
    "points = np.array(centroids)\n",
    "values = alldata[:,2]\n"
   ]
  },
  {
   "cell_type": "markdown",
   "metadata": {},
   "source": [
    "# Interpolate points\n",
    "Exports a DEM by interpolating previously extracted contours. This uses the `linear` method from `scipy.interpolate.griddata`, which computes a TIN/Delaunay triangulation of the input data using [Qhull](www.qhull.org) before performing linear barycentric interpolation on each triangle."
   ]
  },
  {
   "cell_type": "code",
   "execution_count": 53,
   "metadata": {},
   "outputs": [
    {
     "data": {
      "image/png": "[encoded data removed]",
      "text/plain": [
       "<matplotlib.figure.Figure at 0x7feacf8bcd30>"
      ]
     },
     "metadata": {},
     "output_type": "display_data"
    }
   ],
   "source": [
    "# Extract bounds of ITEM layer\n",
    "minx = upleft_x\n",
    "maxx = upleft_x + (x_size * xcols)\n",
    "miny = upleft_y + (y_size * yrows)\n",
    "maxy = upleft_y\n",
    "\n",
    "# Create interpolation grid (from, to, by in metres)\n",
    "grid_y, grid_x = np.mgrid[maxy:miny:1j * yrows,\n",
    "                          minx:maxx:1j * xcols]\n",
    "\n",
    "# Interpolate between points onto grid. This uses the 'linear' method from \n",
    "# scipy.interpolate.griddata, which computes a TIN/Delaunay triangulation of the input \n",
    "# data with Qhull and performs linear barycentric interpolation on each triangle\n",
    "interpolated_array = griddata(points, values, (grid_y, grid_x), method = \"linear\")\n",
    "\n",
    "# Mask out NaNs, zero values and max tidal stage from original ITEM offset layer\n",
    "gooddata_mask = ((srcarray != -6666) & (srcarray != 0) & (srcarray != item_classes[9]))\n",
    "interpolated_array[~gooddata_mask] = np.nan\n",
    "\n",
    "# Plot\n",
    "plt.figure(figsize = (8, 8))\n",
    "plt.imshow(interpolated_array[plotting_subset])\n",
    "plt.show()\n",
    "\n",
    "# Export to tif\n",
    "write_geotiff(fname = \"output_data/dem_{}_test.tif\".format(polygon_ID), \n",
    "              data = interpolated_array, \n",
    "              geo_transform = geotrans, \n",
    "              projection = prj, \n",
    "              nodata_val = np.nan)\n"
   ]
  },
  {
   "cell_type": "code",
   "execution_count": null,
   "metadata": {},
   "outputs": [],
   "source": []
  }
 ],
 "metadata": {
  "kernelspec": {
   "display_name": "Python 3",
   "language": "python",
   "name": "python3"
  },
  "language_info": {
   "codemirror_mode": {
    "name": "ipython",
    "version": 3
   },
   "file_extension": ".py",
   "mimetype": "text/x-python",
   "name": "python",
   "nbconvert_exporter": "python",
   "pygments_lexer": "ipython3",
   "version": "3.6.3"
  },
  "toc": {
   "nav_menu": {},
   "number_sections": true,
   "sideBar": true,
   "skip_h1_title": false,
   "toc_cell": false,
   "toc_position": {},
   "toc_section_display": "block",
   "toc_window_display": false
  }
 },
 "nbformat": 4,
 "nbformat_minor": 2
}
